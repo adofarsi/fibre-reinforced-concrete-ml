{
 "cells": [
  {
   "cell_type": "code",
   "execution_count": 1,
   "metadata": {},
   "outputs": [
    {
     "name": "stderr",
     "output_type": "stream",
     "text": [
      "firedrake:WARNING OMP_NUM_THREADS is not set or is set to a value greater than 1, we suggest setting OMP_NUM_THREADS=1 to improve performance\n",
      "/Users/mh522/firedrake/lib/python3.11/site-packages/tqdm/auto.py:21: TqdmWarning: IProgress not found. Please update jupyter and ipywidgets. See https://ipywidgets.readthedocs.io/en/stable/user_install.html\n",
      "  from .autonotebook import tqdm as notebook_tqdm\n"
     ]
    }
   ],
   "source": [
    "from firedrake import *\n",
    "import numpy as np\n",
    "import matplotlib.pyplot as plt\n",
    "import pandas as pd\n",
    "from tqdm.auto import tqdm, trange"
   ]
  },
  {
   "cell_type": "code",
   "execution_count": 20,
   "metadata": {},
   "outputs": [
    {
     "name": "stdout",
     "output_type": "stream",
     "text": [
      "x  x[0]\n",
      "y  x[1]\n"
     ]
    }
   ],
   "source": [
    "mesh  = UnitSquareMesh(1,1)\n",
    "x,y = SpatialCoordinate(mesh)\n",
    "print('x ', x)\n",
    "print('y ', y)"
   ]
  },
  {
   "cell_type": "code",
   "execution_count": 2,
   "metadata": {},
   "outputs": [],
   "source": [
    "def forward_model(E, nu, strain_tensor):\n",
    "    # Mesh refinement parameters\n",
    "    nx, ny = 5, 1\n",
    "    mesh = RectangleMesh(nx, ny, 1, 1)\n",
    "    x, y = SpatialCoordinate(mesh)\n",
    "    V = VectorFunctionSpace(mesh, 'CG', 1)\n",
    "    # Test and trial function for the displacement field\n",
    "    v, u_ = TestFunction(V), TrialFunction(V)\n",
    "    u = Function(V, name=\"Displacement\")\n",
    "\n",
    "    # Lamé parameter\n",
    "    lmbda = E*nu/(1+nu)/(1-2*nu)\n",
    "    mu = E/2/(1+nu)\n",
    "    # Constitutive equations\n",
    "    def eps(v):\n",
    "        return 0.5*(grad(v) + grad(v).T)\n",
    "    def sigma(v):\n",
    "        d = 2\n",
    "        return lmbda*tr(eps(v))*Identity(d) + 2*mu*eps(v)\n",
    "    # Body force\n",
    "    f = Constant((0.0, 0.0))\n",
    "    \n",
    "    # Convert strain tensor into displacement boundary conditions\n",
    "    \n",
    "    exx, eyy, exy = strain_tensor.dat.data[0,0,0], strain_tensor.dat.data[0,1,1], strain_tensor.dat.data[0,0,1]\n",
    "    uLx = - exx/2 + exy * (y-.5)\n",
    "    uLy = eyy * (y-.5) - exy/2\n",
    "    uRx = exx/2 + exy * (y-.5)\n",
    "    uRy = eyy * (y-.5) + exy/2\n",
    "    \n",
    "    uBx = exx * (x-.5) - exy/2\n",
    "    uBy = - eyy/2 + exy * (x-.5)\n",
    "    uTx = exx * (x-.5) + exy/2\n",
    "    uTy = eyy/2 + exy * (x-.5)\n",
    "\n",
    "    # Boundary conditions\n",
    "    bcL = DirichletBC(V, [uLx, uLy], 1)\n",
    "    bcR = DirichletBC(V, [uRx, uRy], 2)\n",
    "    bcB = DirichletBC(V, [uBx, uBy], 3)\n",
    "    bcT = DirichletBC(V, [uTx, uTy], 4)\n",
    "\n",
    "    # Formal equation is div(sigma(u)) = f\n",
    "    # Form\n",
    "    a = inner(sigma(u_), eps(v)) * dx    \n",
    "    L = inner(f, v) * dx\n",
    "    # Solve PDE\n",
    "    solve(a == L, u, bcs=[bcL, bcB, bcR, bcT], solver_parameters={'ksp_type': 'preonly', 'pc_type': 'lu'})\n",
    "\n",
    "    # Boundary stress\n",
    "    sxx = assemble(.5*sigma(u)[0, 0] * ds(1) + .5*sigma(u)[0, 0] * ds(2))\n",
    "    syy = assemble(.5*sigma(u)[1, 1] * ds(3) + .5*sigma(u)[1, 1] * ds(4))\n",
    "    sxy_syx = assemble(.25*sigma(u)[0, 1] * ds(1) +\n",
    "                       .25*sigma(u)[0, 1] * ds(2) +\n",
    "                       .25*sigma(u)[1, 0] * ds(3) +\n",
    "                       .25*sigma(u)[1, 0] * ds(4))\n",
    "    # Enforce symmetry: Sxy = Syx\n",
    "    stress_tensor = np.array([[sxx, sxy_syx],\n",
    "                              [sxy_syx, syy]])\n",
    "    stress_tensor = as_tensor(stress_tensor)\n",
    "    return project(stress_tensor, V_tensor)\n"
   ]
  },
  {
   "cell_type": "code",
   "execution_count": 3,
   "metadata": {},
   "outputs": [],
   "source": [
    "# check \n",
    "def check_forward(E,nu,strain_tensor):\n",
    "    lmbda = E*nu/(1+nu)/(1-2*nu)\n",
    "    mu = E/2/(1+nu)\n",
    "    # lmbda*tr(eps(v))*Identity(d) + 2*mu*eps(v), 0.1 is the trace of eps(v)\n",
    "    s = lmbda*np.trace(strain_tensor)*np.eye(2) + 2*mu*strain_tensor\n",
    "    return s\n"
   ]
  },
  {
   "cell_type": "code",
   "execution_count": 4,
   "metadata": {},
   "outputs": [],
   "source": [
    "\n",
    "E = 30e3\n",
    "nu = 0.3\n",
    "strain_tensor = np.array([[0.01, 1],[1, 0.01]])\n",
    "strain_fire = Constant([[0.01, 1], [1, 0.01]])\n",
    "mesh = UnitSquareMesh(1,1)\n",
    "V_tensor = TensorFunctionSpace(mesh, \"CG\", 1)\n",
    "strain_fire = project(strain_fire, V_tensor)\n",
    "\n",
    "stress_tensor = forward_model(E, nu, strain_fire)\n",
    "stress_true = check_forward(E, nu, strain_tensor)\n"
   ]
  },
  {
   "cell_type": "code",
   "execution_count": 5,
   "metadata": {},
   "outputs": [
    {
     "name": "stdout",
     "output_type": "stream",
     "text": [
      "stress_tensor [[  576.92307692 23076.92307692]\n",
      " [23076.92307692   576.92307692]]\n",
      "strain_tensor [[0.01 1.  ]\n",
      " [1.   0.01]]\n",
      "stress_true [[  576.92307692 23076.92307692]\n",
      " [23076.92307692   576.92307692]]\n"
     ]
    }
   ],
   "source": [
    "print('stress_tensor', stress_tensor.dat.data[0])\n",
    "print('strain_tensor', strain_tensor)\n",
    "print(\"stress_true\",stress_true)"
   ]
  },
  {
   "cell_type": "code",
   "execution_count": 6,
   "metadata": {},
   "outputs": [],
   "source": [
    "## fire version\n",
    "def get_dataset(ntrain, ntest):\n",
    "    X, y = [], []\n",
    "\n",
    "    for i in tqdm(range(ntrain + ntest)):\n",
    "        # Randomly generate E and nu within given ranges\n",
    "        E = np.random.uniform(30e3, 90e3)  # Young's modulus in Pa\n",
    "        nu = np.random.uniform(0.1, 0.3)      # Poisson's ratio\n",
    "\n",
    "        # Generate diagonal elements\n",
    "        a11, a12, a22 = [np.random.uniform(-0.1, 0.1) for _ in range(3)]\n",
    "        # Construct the 2x2 matrix\n",
    "        strain = np.array([[a11, a12], [a12, a22]])\n",
    "        \n",
    "        # strain = project(as_tensor(strain), V_tensor)\n",
    "        # stress = forward_model(E, nu, strain)\n",
    "        stress = check_forward(E, nu, strain)\n",
    "        \n",
    "        \n",
    "        \n",
    "        # Flatten and concatenate [E, nu] and strain\n",
    "        input_data = np.hstack([E, nu, a11, a22, a12])\n",
    "        \n",
    "        X.append(input_data)\n",
    "        y.append([stress[0,0], stress[1,1], stress[0,1]])\n",
    "        # y.append([stress.dat.data[0,0,0], stress.dat.data[0,1,1], stress.dat.data[0,0,1]])\n",
    "    # print(y)\n",
    "    # Convert lists to numpy arrays\n",
    "    X_train, X_test = np.array(X[:ntrain]), np.array(X[ntrain:])\n",
    "    y_train, y_test = np.array(y[:ntrain]), np.array(y[ntrain:])\n",
    "    \n",
    "    np.save(\"data/datasets/linear_elasticity/X_train.npy\", X_train)\n",
    "    np.save(\"data/datasets/linear_elasticity/y_train.npy\", y_train)\n",
    "    np.save(\"data/datasets/linear_elasticity/X_test.npy\", X_test)\n",
    "    np.save(\"data/datasets/linear_elasticity/y_test.npy\", y_test)"
   ]
  },
  {
   "cell_type": "code",
   "execution_count": 7,
   "metadata": {},
   "outputs": [
    {
     "name": "stderr",
     "output_type": "stream",
     "text": [
      "100%|██████████| 2200/2200 [00:00<00:00, 57048.07it/s]\n"
     ]
    }
   ],
   "source": [
    "ntrain = 2000\n",
    "ntest = 200\n",
    "get_dataset(ntrain, ntest)"
   ]
  },
  {
   "cell_type": "markdown",
   "metadata": {},
   "source": [
    "# train"
   ]
  },
  {
   "cell_type": "code",
   "execution_count": 8,
   "metadata": {},
   "outputs": [],
   "source": [
    "# Loading\n",
    "X_train = np.load(\"data/datasets/linear_elasticity/X_train.npy\", allow_pickle=True)\n",
    "X_test = np.load(\"data/datasets/linear_elasticity/X_test.npy\", allow_pickle=True)\n",
    "y_train = np.load(\"data/datasets/linear_elasticity/y_train.npy\", allow_pickle=True)\n",
    "y_test = np.load(\"data/datasets/linear_elasticity/y_test.npy\", allow_pickle=True)"
   ]
  },
  {
   "cell_type": "code",
   "execution_count": 9,
   "metadata": {},
   "outputs": [
    {
     "name": "stdout",
     "output_type": "stream",
     "text": [
      "Sample 1:\n",
      "-----------\n",
      "E: 6.05e+04\n",
      "nu: 0.13\n",
      "Strain:\n",
      "[[0.022, 0.004]\n",
      " [0.004, -0.067]]\n",
      "Stress:\n",
      "[[  718.59611453   189.52089968]\n",
      " [  189.52089968 -4019.38164252]]\n",
      "\n"
     ]
    }
   ],
   "source": [
    "# Print some of the data\n",
    "num_samples_to_display = 1\n",
    "\n",
    "for i in range(num_samples_to_display):\n",
    "    E, nu, a11, a22, a12 = X_train[i]\n",
    "    stress_xx,stress_yy, stress_xy = y_train[i][0], y_train[i][1], y_train[i][2]\n",
    "    stress = np.array([[stress_xx, stress_xy], [stress_xy, stress_yy]])\n",
    "    print(f\"Sample {i+1}:\")\n",
    "    print(\"-----------\")\n",
    "    print(f\"E: {E:.2e}\")\n",
    "    print(f\"nu: {nu:.2f}\")\n",
    "    print(f\"Strain:\\n[[{a11:.3f}, {a12:.3f}]\\n [{a12:.3f}, {a22:.3f}]]\")\n",
    "    print(f\"Stress:\\n{stress}\")\n",
    "    print()"
   ]
  },
  {
   "cell_type": "code",
   "execution_count": 10,
   "metadata": {},
   "outputs": [
    {
     "name": "stdout",
     "output_type": "stream",
     "text": [
      "X_train [[ 6.04561416e+04  1.33034846e-01  2.16972518e-02 -6.70992502e-02\n",
      "   3.55189362e-03]\n",
      " [ 4.66396663e+04  1.49245400e-01 -6.01297324e-03 -7.68354475e-02\n",
      "   2.67019727e-02]\n",
      " [ 3.03300800e+04  1.28318350e-01 -9.85703590e-02 -9.63164374e-02\n",
      "  -4.29759560e-02]\n",
      " ...\n",
      " [ 8.25477313e+04  2.10238417e-01 -8.60647117e-03 -1.64085091e-02\n",
      "   9.84859703e-03]\n",
      " [ 8.09603002e+04  2.92232576e-01  2.05228250e-02  5.54513385e-02\n",
      "   4.34014923e-02]\n",
      " [ 7.95657544e+04  1.32297696e-01  9.68749091e-02  7.60638505e-02\n",
      "   9.22668133e-02]]\n",
      "y_train [[  718.59611453 -4019.38164252   189.52089968]\n",
      " [ -959.3339577  -3833.51258484  1083.64244555]\n",
      " [-3553.94720411 -3493.360026   -1155.22731918]\n",
      " ...\n",
      " [-1206.00730771 -1738.1673528    671.75139197]\n",
      " [ 4633.26975689  6821.59328059  2719.16829327]\n",
      " [ 8993.50053629  7531.12224284  6483.52339524]]\n",
      "mean and std  tensor([ 75.9950, 107.2874,  37.2291]) tensor([4220.1079, 4260.6670, 3028.6245])\n",
      "\n",
      "\n",
      "X_train tensor([[ 0.0531, -1.1632,  0.3585, -1.1826,  0.0580],\n",
      "        [-0.7341, -0.8805, -0.1261, -1.3524,  0.4564],\n",
      "        [-1.6632, -1.2455, -1.7449, -1.6921, -0.7427],\n",
      "        ...,\n",
      "        [ 1.3116,  0.1830, -0.1715, -0.2986,  0.1663],\n",
      "        [ 1.2212,  1.6128,  0.3380,  0.9545,  0.7438],\n",
      "        [ 1.1417, -1.1761,  1.6733,  1.3140,  1.5847]])\n",
      "y_train tensor([[ 0.1523, -0.9685,  0.0503],\n",
      "        [-0.2453, -0.9249,  0.3455],\n",
      "        [-0.8602, -0.8451, -0.3937],\n",
      "        ...,\n",
      "        [-0.3038, -0.4331,  0.2095],\n",
      "        [ 1.0799,  1.5759,  0.8855],\n",
      "        [ 2.1131,  1.7424,  2.1285]])\n",
      "\n",
      "\n",
      "X_train_back tensor([[ 6.0456e+04,  1.3303e-01,  2.1697e-02, -6.7099e-02,  3.5519e-03],\n",
      "        [ 4.6640e+04,  1.4925e-01, -6.0130e-03, -7.6835e-02,  2.6702e-02],\n",
      "        [ 3.0330e+04,  1.2832e-01, -9.8570e-02, -9.6316e-02, -4.2976e-02],\n",
      "        ...,\n",
      "        [ 8.2548e+04,  2.1024e-01, -8.6065e-03, -1.6409e-02,  9.8486e-03],\n",
      "        [ 8.0960e+04,  2.9223e-01,  2.0523e-02,  5.5451e-02,  4.3401e-02],\n",
      "        [ 7.9566e+04,  1.3230e-01,  9.6875e-02,  7.6064e-02,  9.2267e-02]])\n",
      "y_train_back tensor([[  718.5961, -4019.3816,   189.5209],\n",
      "        [ -959.3339, -3833.5127,  1083.6425],\n",
      "        [-3553.9473, -3493.3601, -1155.2273],\n",
      "        ...,\n",
      "        [-1206.0073, -1738.1674,   671.7514],\n",
      "        [ 4633.2695,  6821.5933,  2719.1682],\n",
      "        [ 8993.5010,  7531.1221,  6483.5234]])\n"
     ]
    }
   ],
   "source": [
    "import torch\n",
    "# Convert data to PyTorch tensors\n",
    "X_train_tensor = torch.tensor(X_train, dtype=torch.float32)\n",
    "y_train_tensor = torch.tensor(y_train, dtype=torch.float32)\n",
    "X_test_tensor = torch.tensor(X_test, dtype=torch.float32)\n",
    "y_test_tensor = torch.tensor(y_test, dtype=torch.float32)\n",
    "print('X_train',X_train)\n",
    "print('y_train', y_train)\n",
    "# Compute the mean and standard deviation for the training data\n",
    "X_mean = torch.mean(X_train_tensor, dim=0)\n",
    "#X_min = torch.min(X_train_tensor, dim=1)\n",
    "#X_max = torch.max(X_train_tensor, dim=1)\n",
    "X_std = torch.std(X_train_tensor, dim=0)\n",
    "y_mean = torch.mean(y_train_tensor, dim=0)\n",
    "#y_min = torch.min(y_train_tensor, dim=1)\n",
    "#y_max = torch.max(y_train_tensor, dim=1)\n",
    "y_std = torch.std(y_train_tensor, dim=0)\n",
    "\n",
    "\n",
    "# Standardize the training data\n",
    "X_train_standardized = (X_train_tensor - X_mean) / X_std\n",
    "y_train_standardized = (y_train_tensor - y_mean) / y_std\n",
    "\n",
    "# Standardize the test data using the training data's statistics\n",
    "X_test_standardized = (X_test_tensor - X_mean) / X_std\n",
    "y_test_standardized = (y_test_tensor - y_mean) / y_std\n",
    "print('mean and std ', y_mean, y_std)\n",
    "print('\\n')\n",
    "print('X_train', X_train_standardized)\n",
    "print('y_train', y_train_standardized)\n",
    "\n",
    "print('\\n')\n",
    "print('X_train_back', X_train_standardized * X_std + X_mean)\n",
    "print('y_train_back', y_train_standardized * y_std + y_mean)\n",
    "# Normalization the training data\n",
    "# X_train_standardized = (X_train_tensor - X_min) / (X_max - X_min)\n",
    "# y_train_standardized = (y_train_tensor - y_min) / (y_max - y_min)\n",
    "\n",
    "# # Normalization the test data using the training data's statistics\n",
    "# X_test_standardized = (X_test_tensor - X_min) / (X_max - X_min)\n",
    "# y_test_standardized = (y_test_tensor - y_min) / (X_max - X_min)"
   ]
  },
  {
   "cell_type": "code",
   "execution_count": 11,
   "metadata": {},
   "outputs": [],
   "source": [
    "import torch.nn as nn\n",
    "class MLP_model(nn.Module):\n",
    "    def __init__(self):\n",
    "        super(MLP_model, self).__init__()\n",
    "        \n",
    "        # Define your model architecture\n",
    "        self.fc1 = nn.Linear(5, 8)  # Input size is 6\n",
    "        self.fc2 = nn.Linear(8, 16)\n",
    "        self.fc3 = nn.Linear(16, 32)\n",
    "        self.fc4 = nn.Linear(32, 3)  # Output size is 4\n",
    "\n",
    "    def forward(self, x):\n",
    "        x = torch.relu(self.fc1(x))\n",
    "        x = torch.sigmoid(self.fc2(x))\n",
    "        x = torch.relu(self.fc3(x))\n",
    "        x = self.fc4(x)\n",
    "        return x\n",
    "    \n",
    "    def predict(self, x):\n",
    "        x = self.forward(x)\n",
    "        return x\n"
   ]
  },
  {
   "cell_type": "code",
   "execution_count": 12,
   "metadata": {},
   "outputs": [],
   "source": [
    "from sklearn.model_selection import KFold\n",
    "import numpy as np\n",
    "import torch.optim as optim\n",
    "import os\n",
    "\n",
    "WEIGHT_DECAY = 0.01  # Regularization strength\n",
    "\n",
    "def train_cross_validation(model, dataset, k_folds, epochs, batch_size, lr, criterion, device,save_folder):\n",
    "    kfold = KFold(n_splits=k_folds, shuffle=True)\n",
    "    train_losses = []\n",
    "    val_losses = []\n",
    "    \n",
    "    for fold, (train_ids, val_ids) in enumerate(kfold.split(dataset)):\n",
    "        print(f\"Fold {fold+1}/{k_folds}\")\n",
    "        \n",
    "        # Define data subsets for training and validation\n",
    "        train_subsampler = torch.utils.data.SubsetRandomSampler(train_ids)\n",
    "        val_subsampler = torch.utils.data.SubsetRandomSampler(val_ids)\n",
    "        \n",
    "        train_loader = torch.utils.data.DataLoader(dataset, batch_size=batch_size, sampler=train_subsampler)\n",
    "        val_loader = torch.utils.data.DataLoader(dataset, batch_size=batch_size, sampler=val_subsampler)\n",
    "        \n",
    "        # Re-initialize model for each fold\n",
    "        model_fold = model()\n",
    "        model_fold.to(device)\n",
    "        optimizer_fold = optim.Adam(model_fold.parameters(), lr=lr, weight_decay=WEIGHT_DECAY)\n",
    "        \n",
    "        # Training loop for each fold\n",
    "        for epoch in tqdm(range(epochs)):\n",
    "            model_fold.train()\n",
    "            current_train_loss = 0.0\n",
    "            for inputs, targets in train_loader:\n",
    "                inputs, targets = inputs.to(device), targets.to(device)\n",
    "                optimizer_fold.zero_grad()\n",
    "                outputs = model_fold(inputs)\n",
    "                loss = criterion(outputs, targets)\n",
    "                loss.backward()\n",
    "                optimizer_fold.step()\n",
    "                current_train_loss += loss.item()\n",
    "                \n",
    "            current_val_loss = 0.0\n",
    "            model_fold.eval()\n",
    "            with torch.no_grad():\n",
    "                for inputs, targets in val_loader:\n",
    "                    inputs, targets = inputs.to(device), targets.to(device)\n",
    "                    outputs = model_fold(inputs)\n",
    "                    loss = criterion(outputs, targets)\n",
    "                    current_val_loss += loss.item()\n",
    "            \n",
    "            train_losses.append(current_train_loss/len(train_loader))\n",
    "            val_losses.append(current_val_loss/len(val_loader))\n",
    "            \n",
    "            if epoch == epochs - 1:\n",
    "                print(f\"Train Loss: {train_losses[-1]:.4f}, Val Loss: {val_losses[-1]:.4f}\")\n",
    "            # Save model if the validation loss has decreased\n",
    "            best_val_loss = np.Inf\n",
    "            if current_val_loss < best_val_loss:\n",
    "                best_val_loss = current_val_loss\n",
    "                torch.save(model_fold.state_dict(), os.path.join(save_folder, f'best_model.pt'))\n",
    "    # Plotting after all folds\n",
    "    plt.figure(figsize=(12,4))\n",
    "    plt.plot(train_losses, label='Train Loss', color='blue')\n",
    "    plt.plot(val_losses, label='Validation Loss', color='red')\n",
    "    plt.title('Training and Validation Losses over Epochs')\n",
    "    plt.xlabel('Epochs')\n",
    "    plt.ylabel('Loss')\n",
    "    plt.legend()\n",
    "    plt.grid(True)\n",
    "    plt.show()"
   ]
  },
  {
   "cell_type": "code",
   "execution_count": 13,
   "metadata": {},
   "outputs": [
    {
     "name": "stdout",
     "output_type": "stream",
     "text": [
      "Fold 1/3\n"
     ]
    },
    {
     "name": "stderr",
     "output_type": "stream",
     "text": [
      "100%|██████████| 500/500 [00:27<00:00, 18.08it/s]\n"
     ]
    },
    {
     "name": "stdout",
     "output_type": "stream",
     "text": [
      "Train Loss: 0.0179, Val Loss: 0.0196\n",
      "Fold 2/3\n"
     ]
    },
    {
     "name": "stderr",
     "output_type": "stream",
     "text": [
      "100%|██████████| 500/500 [00:27<00:00, 18.32it/s]\n"
     ]
    },
    {
     "name": "stdout",
     "output_type": "stream",
     "text": [
      "Train Loss: 0.0178, Val Loss: 0.0180\n",
      "Fold 3/3\n"
     ]
    },
    {
     "name": "stderr",
     "output_type": "stream",
     "text": [
      "100%|██████████| 500/500 [00:27<00:00, 18.32it/s]\n"
     ]
    },
    {
     "name": "stdout",
     "output_type": "stream",
     "text": [
      "Train Loss: 0.0180, Val Loss: 0.0188\n"
     ]
    },
    {
     "data": {
      "image/png": "[encoded data removed]",
      "text/plain": [
       "<Figure size 1200x400 with 1 Axes>"
      ]
     },
     "metadata": {},
     "output_type": "display_data"
    }
   ],
   "source": [
    "import torch\n",
    "import torch.optim as optim\n",
    "\n",
    "# Initialize the device for training\n",
    "device = torch.device('cuda' if torch.cuda.is_available() else 'cpu')\n",
    "# Initialize the model, criterion and optimizer\n",
    "model = MLP_model().to(device)\n",
    "criterion = nn.MSELoss()\n",
    "# Hyperparameters\n",
    "EPOCHS = 500\n",
    "LEARNING_RATE = 0.0003\n",
    "BATCH_SIZE = 16\n",
    "optimizer = optim.Adam(model.parameters(), lr=LEARNING_RATE)\n",
    "\n",
    "# Dataset loading utilities\n",
    "train_dataset = torch.utils.data.TensorDataset(X_train_standardized, y_train_standardized)\n",
    "test_dataset = torch.utils.data.TensorDataset(X_test_standardized, y_test_standardized)\n",
    "\n",
    "train_loader = torch.utils.data.DataLoader(dataset=train_dataset, batch_size=BATCH_SIZE, shuffle=True)\n",
    "test_loader = torch.utils.data.DataLoader(dataset=test_dataset, batch_size=BATCH_SIZE, shuffle=False)\n",
    "save_folder = 'saved_models'\n",
    "# Using the function:\n",
    "combined_dataset = torch.utils.data.ConcatDataset([train_dataset, test_dataset])\n",
    "train_cross_validation(MLP_model, combined_dataset, k_folds=3, epochs=EPOCHS,batch_size=BATCH_SIZE, lr=LEARNING_RATE, criterion=criterion, device=device, save_folder=save_folder)\n"
   ]
  },
  {
   "cell_type": "markdown",
   "metadata": {},
   "source": [
    "# validation"
   ]
  },
  {
   "cell_type": "code",
   "execution_count": 14,
   "metadata": {},
   "outputs": [
    {
     "data": {
      "text/plain": [
       "MLP_model(\n",
       "  (fc1): Linear(in_features=5, out_features=8, bias=True)\n",
       "  (fc2): Linear(in_features=8, out_features=16, bias=True)\n",
       "  (fc3): Linear(in_features=16, out_features=32, bias=True)\n",
       "  (fc4): Linear(in_features=32, out_features=3, bias=True)\n",
       ")"
      ]
     },
     "execution_count": 14,
     "metadata": {},
     "output_type": "execute_result"
    }
   ],
   "source": [
    "# Load the trained model\n",
    "model_path = \"saved_models/best_model.pt\"\n",
    "model = MLP_model()  # assuming this is the correct name of the CNN model\n",
    "model.load_state_dict(torch.load(model_path))\n",
    "model.eval()"
   ]
  },
  {
   "cell_type": "code",
   "execution_count": 15,
   "metadata": {},
   "outputs": [],
   "source": [
    "strain_tensor = np.array([[0.1,0],[0, 0.1]])\n",
    "E = 45e3\n",
    "nu = 0.25\n",
    "\n",
    "pred_input = torch.tensor([E, nu, strain_tensor[0,0], strain_tensor[1,1], strain_tensor[0,1]], dtype=torch.float32)\n",
    "stress_pred = model.predict(pred_input)\n",
    "# convert to engineering stress\n",
    "stress_pred = (stress_pred * y_std) + y_mean\n",
    "# convert to numpy array\n",
    "stress_pred = stress_pred.detach().numpy()\n",
    "stress_pred = np.array([[stress_pred[0], stress_pred[2]],[stress_pred[2], stress_pred[1]]])\n",
    "\n",
    "strain_fire = as_tensor(strain_tensor)\n",
    "strain_fire = project(strain_fire, V_tensor)\n",
    "# generate true stress\n",
    "stress_ground_true = check_forward(E, nu, strain_tensor)\n",
    "stress_true = forward_model(E, nu, strain_fire)\n"
   ]
  },
  {
   "cell_type": "code",
   "execution_count": 16,
   "metadata": {},
   "outputs": [
    {
     "name": "stdout",
     "output_type": "stream",
     "text": [
      "stress prediction: [[ 222.15234   -35.491623]\n",
      " [ -35.491623 -120.15223 ]]\n",
      "stress true [[ 7.20000000e+03 -1.18655086e-15]\n",
      " [-1.18655086e-15  7.20000000e+03]]\n",
      "stress ground [[7200.    0.]\n",
      " [   0. 7200.]]\n"
     ]
    }
   ],
   "source": [
    "print('stress prediction:', stress_pred)\n",
    "print('stress true', stress_true.dat.data[0])\n",
    "print('stress ground', stress_ground_true)"
   ]
  },
  {
   "cell_type": "markdown",
   "metadata": {},
   "source": [
    "# add physics driven"
   ]
  },
  {
   "cell_type": "code",
   "execution_count": 18,
   "metadata": {},
   "outputs": [],
   "source": [
    "import os\n",
    "# import parser\n",
    "import torch.optim as optim\n",
    "import torch.autograd as torch_ad\n",
    "\n",
    "from sklearn.model_selection import KFold\n",
    "\n",
    "from tqdm.auto import tqdm, trange\n",
    "from torch.utils.data import DataLoader\n",
    "\n",
    "from firedrake import *\n",
    "from firedrake_adjoint import *\n",
    "from firedrake.ml.pytorch import torch_operator\n",
    "\n",
    "from physics_driven_ml.dataset_processing import PDEDataset, BatchedElement\n",
    "from physics_driven_ml.models import EncoderDecoder, CNN\n",
    "from physics_driven_ml.utils import ModelConfig, get_logger\n",
    "from physics_driven_ml.evaluation import evaluate\n"
   ]
  },
  {
   "cell_type": "code",
   "execution_count": 56,
   "metadata": {},
   "outputs": [],
   "source": [
    "\n",
    "def train(model, config: ModelConfig,\n",
    "        dataset,\n",
    "        G: torch_ad.Function, H: torch_ad.Function):\n",
    "    \"\"\"Train the model on a given dataset.\"\"\"\n",
    "    optimiser = optim.AdamW(model.parameters(), lr=config.learning_rate, eps=1e-8)\n",
    "    criterion = nn.MSELoss()\n",
    "    \n",
    "    max_grad_norm = 1.0\n",
    "    best_error = 0.\n",
    "    kfold = KFold(n_splits=config.K_fold, shuffle=True)\n",
    "    train_losses = []\n",
    "    val_losses = []\n",
    "    for fold, (train_ids, val_ids) in enumerate(kfold.split(dataset)):\n",
    "        print(f\"Fold {fold+1}/{config.K_fold}\")\n",
    "        \n",
    "        # Define data subsets for training and validation\n",
    "        train_subsampler = torch.utils.data.SubsetRandomSampler(train_ids)\n",
    "        val_subsampler = torch.utils.data.SubsetRandomSampler(val_ids)\n",
    "        \n",
    "        train_loader = torch.utils.data.DataLoader(dataset, batch_size=config.batch_size, sampler=train_subsampler)\n",
    "        val_loader = torch.utils.data.DataLoader(dataset, batch_size=config.batch_size, sampler=val_subsampler)\n",
    "        \n",
    "        # Re-initialize model for each fold\n",
    "        # model = model()\n",
    "        model.to(config.device)\n",
    "        optimizer_fold = optim.Adam(model.parameters(), lr=config.learning_rate, weight_decay=config.WEIGHT_DECAY)\n",
    "        \n",
    "        # training loop\n",
    "        loss_phy_total = 0.0\n",
    "        loss_ml_total = 0.0\n",
    "        for epoch in tqdm(range(config.epochs)):\n",
    "            model.train()\n",
    "            current_train_loss = 0.0\n",
    "            for inputs, targets in train_loader:\n",
    "                inputs, targets = inputs.to(device), targets.to(device)\n",
    "                optimizer_fold.zero_grad()\n",
    "                outputs = model(inputs)\n",
    "                \n",
    "                # calculate physics loss\n",
    "                loss_phi = G(inputs, outputs)\n",
    "                loss_phy_total += loss_phi\n",
    "                # calculate machine learning loss\n",
    "                loss_ml = H(outputs, targets)\n",
    "                loss_ml_total += loss_ml\n",
    "                # back propagation\n",
    "                loss = loss_phi + config.alpha * loss_ml\n",
    "                loss.backward()\n",
    "                \n",
    "                optimizer_fold.step()\n",
    "                current_train_loss += loss.item()\n",
    "                \n",
    "            # validation loop\n",
    "            model.eval()\n",
    "            current_val_loss = 0.0\n",
    "            with torch.no_grad():\n",
    "                for inputs, targets in val_loader:\n",
    "                    inputs, targets = inputs.to(device), targets.to(device)\n",
    "                    outputs = model(inputs)\n",
    "                    loss = criterion(outputs, targets)\n",
    "                    current_val_loss += loss.item()\n",
    "            \n",
    "            # print current losses\n",
    "            train_losses.append(current_train_loss/len(train_loader))\n",
    "            val_losses.append(current_val_loss/len(val_loader))\n",
    "            if epoch == config.epochs - 1:\n",
    "                print(f\"Epoch {epoch+1}/{config.epochs} | Train Loss: {current_train_loss/len(train_loader)} | Validation Loss: {current_val_loss/len(val_loader)}\")\n",
    "\n",
    "            # Save best-performing model\n",
    "            if current_val_loss < best_error or epoch == 0:\n",
    "                best_error = current_val_loss\n",
    "                torch.save(model.state_dict(), os.path.join(save_folder, f'best_model.pt'))\n",
    "    # plot losses\n",
    "    plt.figure(figsize=(12,4))\n",
    "    plt.plot(train_losses, label='Train Loss', color='blue')\n",
    "    plt.plot(val_losses, label='Validation Loss', color='red')\n",
    "    plt.title('Training and Validation Losses over Epochs')\n",
    "    plt.xlabel('Epochs')\n",
    "    plt.ylabel('Loss')\n",
    "    plt.legend()\n",
    "    plt.grid(True)\n",
    "    plt.show()    \n",
    "\n",
    "    return model"
   ]
  },
  {
   "cell_type": "markdown",
   "metadata": {},
   "source": [
    "### add physics driven here"
   ]
  },
  {
   "cell_type": "code",
   "execution_count": 57,
   "metadata": {},
   "outputs": [
    {
     "ename": "AttributeError",
     "evalue": "module 'firedrake.mesh' has no attribute 'ufl_domain'",
     "output_type": "error",
     "traceback": [
      "\u001b[0;31m---------------------------------------------------------------------------\u001b[0m",
      "\u001b[0;31mAttributeError\u001b[0m                            Traceback (most recent call last)",
      "File \u001b[0;32m~/firedrake/src/ufl/ufl/domain.py:271\u001b[0m, in \u001b[0;36mas_domain\u001b[0;34m(domain)\u001b[0m\n\u001b[1;32m    270\u001b[0m \u001b[39mtry\u001b[39;00m:\n\u001b[0;32m--> 271\u001b[0m     \u001b[39mreturn\u001b[39;00m extract_unique_domain(domain)\n\u001b[1;32m    272\u001b[0m \u001b[39mexcept\u001b[39;00m \u001b[39mAttributeError\u001b[39;00m:\n",
      "File \u001b[0;32m~/firedrake/src/ufl/ufl/domain.py:345\u001b[0m, in \u001b[0;36mextract_unique_domain\u001b[0;34m(expr)\u001b[0m\n\u001b[1;32m    344\u001b[0m \u001b[39m\"\u001b[39m\u001b[39mReturn the single unique domain expression is defined on or throw an error.\u001b[39m\u001b[39m\"\u001b[39m\n\u001b[0;32m--> 345\u001b[0m domains \u001b[39m=\u001b[39m extract_domains(expr)\n\u001b[1;32m    346\u001b[0m \u001b[39mif\u001b[39;00m \u001b[39mlen\u001b[39m(domains) \u001b[39m==\u001b[39m \u001b[39m1\u001b[39m:\n",
      "File \u001b[0;32m~/firedrake/src/ufl/ufl/domain.py:338\u001b[0m, in \u001b[0;36mextract_domains\u001b[0;34m(expr)\u001b[0m\n\u001b[1;32m    337\u001b[0m domainlist \u001b[39m=\u001b[39m []\n\u001b[0;32m--> 338\u001b[0m \u001b[39mfor\u001b[39;00m t \u001b[39min\u001b[39;00m traverse_unique_terminals(expr):\n\u001b[1;32m    339\u001b[0m     domainlist\u001b[39m.\u001b[39mextend(t\u001b[39m.\u001b[39mufl_domains())\n",
      "File \u001b[0;32m~/firedrake/src/ufl/ufl/corealg/traversal.py:135\u001b[0m, in \u001b[0;36mtraverse_unique_terminals\u001b[0;34m(expr, visited)\u001b[0m\n\u001b[1;32m    134\u001b[0m \u001b[39mfor\u001b[39;00m op \u001b[39min\u001b[39;00m unique_pre_traversal(expr, visited\u001b[39m=\u001b[39mvisited):\n\u001b[0;32m--> 135\u001b[0m     \u001b[39mif\u001b[39;00m op\u001b[39m.\u001b[39;49m_ufl_is_terminal_:\n\u001b[1;32m    136\u001b[0m         \u001b[39myield\u001b[39;00m op\n",
      "\u001b[0;31mAttributeError\u001b[0m: module 'firedrake.mesh' has no attribute '_ufl_is_terminal_'",
      "\nDuring handling of the above exception, another exception occurred:\n",
      "\u001b[0;31mValueError\u001b[0m                                Traceback (most recent call last)",
      "File \u001b[0;32m~/firedrake/src/ufl/ufl/domain.py:278\u001b[0m, in \u001b[0;36mas_domain\u001b[0;34m(domain)\u001b[0m\n\u001b[1;32m    273\u001b[0m \u001b[39mtry\u001b[39;00m:\n\u001b[1;32m    274\u001b[0m     \u001b[39m# Legacy UFL files\u001b[39;00m\n\u001b[1;32m    275\u001b[0m     \u001b[39m# TODO: Make this conversion in the relevant constructors\u001b[39;00m\n\u001b[1;32m    276\u001b[0m     \u001b[39m# closer to the user interface?\u001b[39;00m\n\u001b[1;32m    277\u001b[0m     \u001b[39m# TODO: Make this configurable to be an error from the dolfin side?\u001b[39;00m\n\u001b[0;32m--> 278\u001b[0m     cell \u001b[39m=\u001b[39m as_cell(domain)\n\u001b[1;32m    279\u001b[0m     \u001b[39mreturn\u001b[39;00m default_domain(cell)\n",
      "File \u001b[0;32m~/firedrake/src/ufl/ufl/cell.py:307\u001b[0m, in \u001b[0;36mas_cell\u001b[0;34m(cell)\u001b[0m\n\u001b[1;32m    306\u001b[0m \u001b[39melse\u001b[39;00m:\n\u001b[0;32m--> 307\u001b[0m     \u001b[39mraise\u001b[39;00m \u001b[39mValueError\u001b[39;00m(\u001b[39mf\u001b[39m\u001b[39m\"\u001b[39m\u001b[39mInvalid cell \u001b[39m\u001b[39m{\u001b[39;00mcell\u001b[39m}\u001b[39;00m\u001b[39m.\u001b[39m\u001b[39m\"\u001b[39m)\n",
      "\u001b[0;31mValueError\u001b[0m: Invalid cell <module 'firedrake.mesh' from '/home/meng-yang/firedrake/src/firedrake/firedrake/mesh.py'>.",
      "\nDuring handling of the above exception, another exception occurred:\n",
      "\u001b[0;31mAttributeError\u001b[0m                            Traceback (most recent call last)",
      "Cell \u001b[0;32mIn[57], line 59\u001b[0m\n\u001b[1;32m     56\u001b[0m     \u001b[39m# Assemble Firedrake L2-loss (and not l2-loss as in PyTorch)\u001b[39;00m\n\u001b[1;32m     57\u001b[0m     \u001b[39mreturn\u001b[39;00m assemble_L2_error(stress_tensor, stress_obs)\n\u001b[0;32m---> 59\u001b[0m x, y \u001b[39m=\u001b[39m SpatialCoordinate(mesh)\n\u001b[1;32m     60\u001b[0m V \u001b[39m=\u001b[39m VectorFunctionSpace(mesh, \u001b[39m\"\u001b[39m\u001b[39mCG\u001b[39m\u001b[39m\"\u001b[39m, \u001b[39m1\u001b[39m)\n\u001b[1;32m     62\u001b[0m f \u001b[39m=\u001b[39m Constant((\u001b[39m0\u001b[39m,\u001b[39m0\u001b[39m))\n",
      "File \u001b[0;32m~/firedrake/src/ufl/ufl/geometry.py:84\u001b[0m, in \u001b[0;36mGeometricQuantity.__init__\u001b[0;34m(self, domain)\u001b[0m\n\u001b[1;32m     82\u001b[0m \u001b[39mdef\u001b[39;00m \u001b[39m__init__\u001b[39m(\u001b[39mself\u001b[39m, domain):\n\u001b[1;32m     83\u001b[0m     Terminal\u001b[39m.\u001b[39m\u001b[39m__init__\u001b[39m(\u001b[39mself\u001b[39m)\n\u001b[0;32m---> 84\u001b[0m     \u001b[39mself\u001b[39m\u001b[39m.\u001b[39m_domain \u001b[39m=\u001b[39m as_domain(domain)\n",
      "File \u001b[0;32m~/firedrake/src/ufl/ufl/domain.py:281\u001b[0m, in \u001b[0;36mas_domain\u001b[0;34m(domain)\u001b[0m\n\u001b[1;32m    279\u001b[0m     \u001b[39mreturn\u001b[39;00m default_domain(cell)\n\u001b[1;32m    280\u001b[0m \u001b[39mexcept\u001b[39;00m \u001b[39mValueError\u001b[39;00m:\n\u001b[0;32m--> 281\u001b[0m     \u001b[39mreturn\u001b[39;00m domain\u001b[39m.\u001b[39;49mufl_domain()\n",
      "\u001b[0;31mAttributeError\u001b[0m: module 'firedrake.mesh' has no attribute 'ufl_domain'"
     ]
    }
   ],
   "source": [
    "import functools\n",
    "\n",
    "def assemble_L2_error(x, x_exact):\n",
    "    \"\"\"Assemble L2-loss\"\"\"\n",
    "    return assemble(0.5 * (x - x_exact) ** 2 * dx)\n",
    "\n",
    "def solve_pde(strain, stress_obs, f, V,V_tensor):\n",
    "    \"\"\"Solve Poisson problem\"\"\"\n",
    "    E = strain.dat.data[0]\n",
    "    nu = strain.dat.data[1]\n",
    "    mu = E/(2*(1+nu))\n",
    "    lmbda = E*nu/((1+nu)*(1-2*nu))\n",
    "    # return 0.5*(grad(u) + grad(u).T)\n",
    "    exx, eyy, exy = strain.dat.data[2], strain.dat.data[3], strain.dat.data[4]\n",
    "    uLx = - exx/2 + exy * (y-.5)\n",
    "    uLy = eyy * (y-.5) - exy/2\n",
    "    uRx = exx/2 + exy * (y-.5)\n",
    "    uRy = eyy * (y-.5) + exy/2\n",
    "    \n",
    "    uBx = exx * (x-.5) - exy/2\n",
    "    uBy = - eyy/2 + exy * (x-.5)\n",
    "    uTx = exx * (x-.5) + exy/2\n",
    "    uTy = eyy/2 + exy * (x-.5)\n",
    "\n",
    "    # Boundary conditions\n",
    "    bcL = DirichletBC(V, [uLx, uLy], 1)\n",
    "    bcR = DirichletBC(V, [uRx, uRy], 2)\n",
    "    bcB = DirichletBC(V, [uBx, uBy], 3)\n",
    "    bcT = DirichletBC(V, [uTx, uTy], 4)\n",
    "    \n",
    "    def sigma(u):\n",
    "        return 2*mu*sym(grad(u)) + lmbda*tr(sym(grad(u)))*Identity(2)\n",
    "\n",
    "    def epsilon(u):\n",
    "        return sym(grad(u))\n",
    "\n",
    "    u = Function(V)\n",
    "    v, u_ = TestFunction(V), TrialFunction(V)\n",
    "    a = inner(sigma(u_), epsilon(v)) * dx    \n",
    "    L = inner(f, v) * dx\n",
    "    # Solve PDE (using LU factorisation)\n",
    "    solve(a == L, u, bcs=[bcL, bcB, bcR, bcT], solver_parameters={'ksp_type': 'preonly', 'pc_type': 'lu'})\n",
    "    # Boundary stress\n",
    "    sxx = assemble(.5*sigma(u)[0, 0] * ds(1) + .5*sigma(u)[0, 0] * ds(2))\n",
    "    syy = assemble(.5*sigma(u)[1, 1] * ds(3) + .5*sigma(u)[1, 1] * ds(4))\n",
    "    sxy_syx = assemble(.25*sigma(u)[0, 1] * ds(1) +\n",
    "                       .25*sigma(u)[0, 1] * ds(2) +\n",
    "                       .25*sigma(u)[1, 0] * ds(3) +\n",
    "                       .25*sigma(u)[1, 0] * ds(4))\n",
    "    # Enforce symmetry: Sxy = Syx\n",
    "\n",
    "    stress_tensor = np.array([[sxx, sxy_syx],\n",
    "                              [sxy_syx, syy]])\n",
    "    stress_tensor = as_tensor(stress_tensor)\n",
    "    stress_tensor = project(stress_tensor, V_tensor)\n",
    "    # Assemble Firedrake L2-loss (and not l2-loss as in PyTorch)\n",
    "    return assemble_L2_error(stress_tensor, stress_obs)\n",
    "\n",
    "x, y = SpatialCoordinate(mesh)\n",
    "V = VectorFunctionSpace(mesh, \"CG\", 1)\n",
    "\n",
    "f = Constant((0,0))\n",
    "\n",
    "# mesh2 = RectangleMesh(3,1,1,1)\n",
    "V1 = FunctionSpace(mesh, \"CG\", 1)\n",
    "# V2 = FunctionSpace(mesh2, \"CG\", 1)\n",
    "V_tensor = TensorFunctionSpace(mesh, \"CG\", 1)\n",
    "V_vector = VectorFunctionSpace(mesh, \"CG\", 1)\n",
    "solve_pde = functools.partial(solve_pde, f=f, V=V_vector, V_tensor=V_tensor)\n",
    "\n",
    "\n",
    "# Construct the Firedrake torch operators\n",
    "strain_ = Function(V1)\n",
    "stress_ = Function(V1)\n",
    "stress_obs = Function(V1)\n",
    "\n",
    "# Set tape locally to only record the operations relevant to G on the computational graph\n",
    "with set_working_tape() as tape:\n",
    "    # Define PyTorch operator for solving the PDE and compute the L2 error (for computing κ -> 0.5 * ||u(κ) - u_obs||^{2}_{L2})\n",
    "    F = ReducedFunctional(solve_pde(strain_, stress_obs), [Control(strain_), Control(stress_obs)])\n",
    "    G = torch_operator(F)\n",
    "\n",
    "# Set tape locally to only record the operations relevant to H on the computational graph\n",
    "with set_working_tape() as tape:\n",
    "    # Define PyTorch operator for computing the L2-loss (for computing κ -> 0.5 * ||κ - κ_exact||^{2}_{L2})\n",
    "    F = ReducedFunctional(assemble_L2_error(stress, stress_obs), [Control(stress), Control(stress_obs)])\n",
    "    H = torch_operator(F)\n"
   ]
  },
  {
   "cell_type": "code",
   "execution_count": null,
   "metadata": {},
   "outputs": [],
   "source": [
    "# args = parser.parse_args()\n",
    "config = ModelConfig()\n",
    "config.batch_size = 1\n",
    "train_dataset = torch.utils.data.TensorDataset(X_train_standardized, y_train_standardized)\n",
    "test_dataset = torch.utils.data.TensorDataset(X_test_standardized, y_test_standardized)\n",
    "\n",
    "train_loader = torch.utils.data.DataLoader(dataset=train_dataset, batch_size=config.batch_size, shuffle=True)\n",
    "test_loader = torch.utils.data.DataLoader(dataset=test_dataset, batch_size=config.batch_size, shuffle=False)\n",
    "save_folder = 'saved_models'\n",
    "\n",
    "config.device = torch.device('cuda' if torch.cuda.is_available() else 'cpu')\n",
    "config.save_folder = 'saved_models'\n",
    "# Using the function:\n",
    "combined_dataset = torch.utils.data.ConcatDataset([train_dataset, test_dataset])\n",
    "train_model = MLP_model()\n",
    "train(train_model, config, combined_dataset, G=G, H=H)\n"
   ]
  },
  {
   "cell_type": "code",
   "execution_count": null,
   "metadata": {},
   "outputs": [],
   "source": [
    "# validation\n",
    "# Load the trained model\n",
    "model_path = \"saved_models/best_model.pt\"\n",
    "model = MLP_model()  # assuming this is the correct name of the CNN model\n",
    "model.load_state_dict(torch.load(model_path))\n",
    "model.eval()\n",
    "strain_tensor = np.array([[0.1,0],[0, 0.1]])\n",
    "E = 45e3\n",
    "nu = 0.25\n",
    "\n",
    "pred_input = torch.tensor([E, nu, strain_tensor[0,0], strain_tensor[1,1], strain_tensor[0,1]], dtype=torch.float32)\n",
    "stress_pred = model.predict(pred_input)\n",
    "# convert to engineering stress\n",
    "stress_pred = (stress_pred * y_std) + y_mean\n",
    "# convert to numpy array\n",
    "stress_pred = stress_pred.detach().numpy()\n",
    "stress_pred = np.array([[stress_pred[0], stress_pred[2]],[stress_pred[2], stress_pred[1]]])\n",
    "\n",
    "\n",
    "# generate true stress\n",
    "stress_ground_true = check_forward(E, nu, strain_tensor)\n",
    "stress_true = forward_model(E, nu, strain_tensor)\n",
    "\n",
    "print('stress prediction:', stress_pred)\n",
    "print('stress true', stress_true)\n",
    "print('stress ground', stress_ground_true)"
   ]
  },
  {
   "cell_type": "code",
   "execution_count": null,
   "metadata": {},
   "outputs": [],
   "source": []
  }
 ],
 "metadata": {
  "kernelspec": {
   "display_name": "firedrake",
   "language": "python",
   "name": "python3"
  },
  "language_info": {
   "codemirror_mode": {
    "name": "ipython",
    "version": 3
   },
   "file_extension": ".py",
   "mimetype": "text/x-python",
   "name": "python",
   "nbconvert_exporter": "python",
   "pygments_lexer": "ipython3",
   "version": "3.11.3"
  },
  "orig_nbformat": 4
 },
 "nbformat": 4,
 "nbformat_minor": 2
}
